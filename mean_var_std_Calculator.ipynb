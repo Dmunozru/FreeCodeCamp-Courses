{
 "cells": [
  {
   "attachments": {},
   "cell_type": "markdown",
   "metadata": {},
   "source": [
    "# Mean, variance and Standard deviation calculator\n",
    "\n",
    "## Call libraries\n",
    "\n",
    "first step is call the libraries that are goinng to use to create this project."
   ]
  },
  {
   "cell_type": "code",
   "execution_count": 1,
   "metadata": {},
   "outputs": [],
   "source": [
    "import numpy as np\n",
    "import pandas as pd"
   ]
  },
  {
   "attachments": {},
   "cell_type": "markdown",
   "metadata": {},
   "source": [
    "## List\n",
    "\n",
    "Now, a nine-values list is needed."
   ]
  },
  {
   "cell_type": "code",
   "execution_count": 2,
   "metadata": {},
   "outputs": [
    {
     "name": "stdout",
     "output_type": "stream",
     "text": [
      "[0.0, 1.0, 2.0, 3.0, 4.0, 5.0, 6.0, 7.0, 8.0]\n"
     ]
    }
   ],
   "source": [
    "list = []\n",
    "\n",
    "for i in range(9):\n",
    "    i = float(input(\"Insert a float number: \"))\n",
    "    list.append(i)\n",
    "print(list)\n"
   ]
  },
  {
   "attachments": {},
   "cell_type": "markdown",
   "metadata": {},
   "source": [
    "## Create a matrix 3x3.\n",
    "\n",
    "Now, the _list_ created before will be reshaped to create a 3x3 matrix"
   ]
  },
  {
   "cell_type": "code",
   "execution_count": 3,
   "metadata": {},
   "outputs": [
    {
     "name": "stdout",
     "output_type": "stream",
     "text": [
      "[[0. 1. 2.]\n",
      " [3. 4. 5.]\n",
      " [6. 7. 8.]]\n"
     ]
    }
   ],
   "source": [
    "matrix = np.reshape(list, (3,3))\n",
    "print(matrix)"
   ]
  },
  {
   "attachments": {},
   "cell_type": "markdown",
   "metadata": {},
   "source": [
    "## Create the function _calculate_.\n",
    "This project intructions says that is needed to create a fuction named _calculate_ that claculates the mean, variance, standard deviation, max, min and the sum of the matrix created above. The creation of the function is shown ahead."
   ]
  },
  {
   "cell_type": "code",
   "execution_count": 4,
   "metadata": {},
   "outputs": [
    {
     "name": "stdout",
     "output_type": "stream",
     "text": [
      "{'mean': [[3.0, 4.0, 5.0], [1.0, 4.0, 7.0], 4.0], 'variance': [[6.0, 6.0, 6.0], [0.6666666666666666, 0.6666666666666666, 0.6666666666666666], 6.666666666666667], 'standard deviation': [[2.449489742783178, 2.449489742783178, 2.449489742783178], [0.816496580927726, 0.816496580927726, 0.816496580927726], 2.581988897471611], 'max': [[6.0, 7.0, 8.0], [2.0, 5.0, 8.0], 8.0], 'min': [[0.0, 1.0, 2.0], [0.0, 3.0, 6.0], 0.0], 'sum': [[9.0, 12.0, 15.0], [3.0, 12.0, 21.0], 36.0]}\n"
     ]
    }
   ],
   "source": [
    "def calculate(M):\n",
    "    mean, meanC, meanR = np.mean(matrix), np.mean(matrix, axis = 0).tolist(), np.mean(matrix, axis = 1).tolist()\n",
    "    var, varC, varR = np.var(matrix), np.var(matrix, axis = 0).tolist(), np.var(matrix, axis = 1).tolist()\n",
    "    std, stdC, stdR = np.std(matrix), np.std(matrix, axis = 0).tolist(), np.std(matrix, axis = 1).tolist()\n",
    "    max, maxC, maxR = np.max(matrix), np.max(matrix, axis = 0).tolist(), np.max(matrix, axis = 1).tolist()\n",
    "    min, minC, minR = np.min(matrix), np.min(matrix, axis = 0).tolist(), np.min(matrix, axis = 1).tolist()\n",
    "    sum, sumC, sumR = np.sum(matrix), np.sum(matrix, axis = 0).tolist(), np.sum(matrix, axis = 1).tolist()\n",
    "    \n",
    "    mean_dic = [meanC, meanR, mean]\n",
    "    var_dic = [varC, varR, var]\n",
    "    std_dic = [stdC, stdR, std]\n",
    "    max_dic = [maxC, maxR, max]\n",
    "    min_dic = [minC, minR, min]\n",
    "    sum_dic = [sumC, sumR, sum]\n",
    "    \n",
    "\n",
    "\n",
    "\n",
    "    \n",
    "          \n",
    "\n",
    "    dictionary = {'mean': mean_dic,\n",
    "                  'variance': var_dic,\n",
    "                   'standard deviation': std_dic,\n",
    "                    'max': max_dic,\n",
    "                     'min': min_dic,\n",
    "                      'sum': sum_dic\n",
    "                        }\n",
    "    \n",
    "\n",
    "    return dictionary\n",
    "\n",
    "solve = calculate(matrix)\n",
    "\n",
    "print(solve)\n",
    "\n",
    "\n",
    "\n"
   ]
  },
  {
   "attachments": {},
   "cell_type": "markdown",
   "metadata": {},
   "source": [
    "## Conclutions.\n",
    "\n",
    "This is how a statistics calculator is made. Note that the result obtained is a dictionary and the values tested are same as example values, so it is valid to conclude that the function named _calculate_ works good. "
   ]
  }
 ],
 "metadata": {
  "kernelspec": {
   "display_name": "base",
   "language": "python",
   "name": "python3"
  },
  "language_info": {
   "codemirror_mode": {
    "name": "ipython",
    "version": 3
   },
   "file_extension": ".py",
   "mimetype": "text/x-python",
   "name": "python",
   "nbconvert_exporter": "python",
   "pygments_lexer": "ipython3",
   "version": "3.9.12"
  },
  "orig_nbformat": 4
 },
 "nbformat": 4,
 "nbformat_minor": 2
}
